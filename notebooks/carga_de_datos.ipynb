{
 "cells": [
  {
   "attachments": {},
   "cell_type": "markdown",
   "metadata": {},
   "source": [
    "*Proyecto de Análisis de Datos Cinematográficos*"
   ]
  },
  {
   "attachments": {},
   "cell_type": "markdown",
   "metadata": {},
   "source": [
    "Este proyecto tiene como objetivo realizar un análisis exhaustivo de datos cinematográficos utilizando la base de datos netflix.db y el archivo CSV oscar.csv. El conjunto de datos resultante ofrece información detallada sobre películas, series, directores, premiaciones, puntuaciones, ratings, duración, entre otros aspectos relevantes."
   ]
  },
  {
   "attachments": {},
   "cell_type": "markdown",
   "metadata": {},
   "source": [
    "Para poder desarrollar el proyecto, fue necesario crear la base de datos a ser utilizada. Para eso usamos el archivo netflix.db y oscar.csv. Pasamos a importar las librerias que vamos a utilizar para la creación"
   ]
  },
  {
   "cell_type": "code",
   "execution_count": 1,
   "metadata": {},
   "outputs": [],
   "source": [
    "import sqlite3 as sq3\n",
    "import pandas as pd\n",
    "import matplotlib.pyplot as plt\n",
    "import seaborn as sns\n",
    "import numpy as np\n",
    "from IPython.display import display  # para mostrar display con el estilo DF de Jupiter Notebook"
   ]
  },
  {
   "attachments": {},
   "cell_type": "markdown",
   "metadata": {},
   "source": [
    "Crear las funciones para conexión y desconexión a la base de datos"
   ]
  },
  {
   "cell_type": "code",
   "execution_count": 2,
   "metadata": {},
   "outputs": [],
   "source": [
    "# CONEXIÓN\n",
    "def get_connection():\n",
    "    conn = sq3.connect('netflix.db')\n",
    "    cur = conn.cursor()\n",
    "    return conn, cur\n",
    "\n",
    "# DESCONEXIÓN\n",
    "def close_connection(conn, cur):\n",
    "    cur.close()\n",
    "    conn.close()"
   ]
  },
  {
   "cell_type": "code",
   "execution_count": 5,
   "metadata": {},
   "outputs": [],
   "source": [
    "# Conectar a la base de datos\n",
    "conn, cur = get_connection()\n",
    "\n",
    "# Cargar las tablas desde la base de datos\n",
    "query_production = \"SELECT * FROM production;\"\n",
    "query_content = \"SELECT * FROM content;\"\n",
    "\n",
    "df_production = pd.read_sql(query_production, conn)\n",
    "df_content = pd.read_sql(query_content, conn)\n",
    "\n",
    "# Cerrar la conexión\n",
    "close_connection(conn, cur)\n",
    "\n",
    "# Concatenar las tablas oscar, production y content\n",
    "df_concat = pd.concat([df_production, df_content], axis=1)"
   ]
  },
  {
   "attachments": {},
   "cell_type": "markdown",
   "metadata": {},
   "source": [
    "Pasamos a cargar la base csv"
   ]
  },
  {
   "cell_type": "code",
   "execution_count": 4,
   "metadata": {},
   "outputs": [],
   "source": [
    "df_csv = pd.read_csv('oscar.csv')"
   ]
  },
  {
   "attachments": {},
   "cell_type": "markdown",
   "metadata": {},
   "source": [
    "Concatenamos ambos dataframes para la base de datos final"
   ]
  },
  {
   "cell_type": "code",
   "execution_count": 7,
   "metadata": {},
   "outputs": [],
   "source": [
    "df_netflix_oscar = pd.concat([df_concat, df_csv], axis=1)"
   ]
  },
  {
   "cell_type": "code",
   "execution_count": 8,
   "metadata": {},
   "outputs": [
    {
     "data": {
      "text/html": [
       "<div>\n",
       "<style scoped>\n",
       "    .dataframe tbody tr th:only-of-type {\n",
       "        vertical-align: middle;\n",
       "    }\n",
       "\n",
       "    .dataframe tbody tr th {\n",
       "        vertical-align: top;\n",
       "    }\n",
       "\n",
       "    .dataframe thead th {\n",
       "        text-align: right;\n",
       "    }\n",
       "</style>\n",
       "<table border=\"1\" class=\"dataframe\">\n",
       "  <thead>\n",
       "    <tr style=\"text-align: right;\">\n",
       "      <th></th>\n",
       "      <th>id_production</th>\n",
       "      <th>id_content</th>\n",
       "      <th>title_production</th>\n",
       "      <th>genre</th>\n",
       "      <th>premiere</th>\n",
       "      <th>runtime</th>\n",
       "      <th>imdb_score</th>\n",
       "      <th>language</th>\n",
       "      <th>id_content</th>\n",
       "      <th>type</th>\n",
       "      <th>...</th>\n",
       "      <th>based_on</th>\n",
       "      <th>starring</th>\n",
       "      <th>distributed_by</th>\n",
       "      <th>budget</th>\n",
       "      <th>budget_x_million</th>\n",
       "      <th>box_office</th>\n",
       "      <th>box_office_x_million</th>\n",
       "      <th>imdb</th>\n",
       "      <th>metascore</th>\n",
       "      <th>rotten_tomatoes</th>\n",
       "    </tr>\n",
       "  </thead>\n",
       "  <tbody>\n",
       "    <tr>\n",
       "      <th>0</th>\n",
       "      <td>1.0</td>\n",
       "      <td>1.0</td>\n",
       "      <td>Dick Johnson Is Dead</td>\n",
       "      <td>Documentary</td>\n",
       "      <td>October 2, 2020</td>\n",
       "      <td>90.0</td>\n",
       "      <td>7.5</td>\n",
       "      <td>English</td>\n",
       "      <td>1</td>\n",
       "      <td>Movie</td>\n",
       "      <td>...</td>\n",
       "      <td>NaN</td>\n",
       "      <td>['George MacKay'. 'Dean-Charles Chapman'. 'Mar...</td>\n",
       "      <td>['Universal Pictures (Worldwide)'. 'Entertainm...</td>\n",
       "      <td>$95 million</td>\n",
       "      <td>95.0</td>\n",
       "      <td>$384.9 million</td>\n",
       "      <td>384.9</td>\n",
       "      <td>8.3</td>\n",
       "      <td>78.0</td>\n",
       "      <td>89.0</td>\n",
       "    </tr>\n",
       "    <tr>\n",
       "      <th>1</th>\n",
       "      <td>2.0</td>\n",
       "      <td>1093.0</td>\n",
       "      <td>Dolly Parton: A MusiCares Tribute</td>\n",
       "      <td>Documentary</td>\n",
       "      <td>April 7, 2021</td>\n",
       "      <td>55.0</td>\n",
       "      <td>6.5</td>\n",
       "      <td>English</td>\n",
       "      <td>2</td>\n",
       "      <td>TV Show</td>\n",
       "      <td>...</td>\n",
       "      <td>NaN</td>\n",
       "      <td>['George MacKay'. 'Dean-Charles Chapman'. 'Mar...</td>\n",
       "      <td>['Universal Pictures (Worldwide)'. 'Entertainm...</td>\n",
       "      <td>$95 million</td>\n",
       "      <td>95.0</td>\n",
       "      <td>$384.9 million</td>\n",
       "      <td>384.9</td>\n",
       "      <td>8.3</td>\n",
       "      <td>78.0</td>\n",
       "      <td>89.0</td>\n",
       "    </tr>\n",
       "    <tr>\n",
       "      <th>2</th>\n",
       "      <td>3.0</td>\n",
       "      <td>1071.0</td>\n",
       "      <td>Why Did You Kill Me?</td>\n",
       "      <td>Documentary</td>\n",
       "      <td>April 14, 2021</td>\n",
       "      <td>83.0</td>\n",
       "      <td>5.6</td>\n",
       "      <td>English</td>\n",
       "      <td>3</td>\n",
       "      <td>TV Show</td>\n",
       "      <td>...</td>\n",
       "      <td>NaN</td>\n",
       "      <td>['George MacKay'. 'Dean-Charles Chapman'. 'Mar...</td>\n",
       "      <td>['Universal Pictures (Worldwide)'. 'Entertainm...</td>\n",
       "      <td>$95 million</td>\n",
       "      <td>95.0</td>\n",
       "      <td>$384.9 million</td>\n",
       "      <td>384.9</td>\n",
       "      <td>8.3</td>\n",
       "      <td>78.0</td>\n",
       "      <td>89.0</td>\n",
       "    </tr>\n",
       "    <tr>\n",
       "      <th>3</th>\n",
       "      <td>4.0</td>\n",
       "      <td>142.0</td>\n",
       "      <td>Extraction</td>\n",
       "      <td>Action</td>\n",
       "      <td>April 24, 2020</td>\n",
       "      <td>117.0</td>\n",
       "      <td>6.7</td>\n",
       "      <td>English</td>\n",
       "      <td>4</td>\n",
       "      <td>TV Show</td>\n",
       "      <td>...</td>\n",
       "      <td>NaN</td>\n",
       "      <td>['George MacKay'. 'Dean-Charles Chapman'. 'Mar...</td>\n",
       "      <td>['Universal Pictures (Worldwide)'. 'Entertainm...</td>\n",
       "      <td>$95 million</td>\n",
       "      <td>95.0</td>\n",
       "      <td>$384.9 million</td>\n",
       "      <td>384.9</td>\n",
       "      <td>8.3</td>\n",
       "      <td>78.0</td>\n",
       "      <td>89.0</td>\n",
       "    </tr>\n",
       "    <tr>\n",
       "      <th>4</th>\n",
       "      <td>5.0</td>\n",
       "      <td>3988.0</td>\n",
       "      <td>Antoine Griezmann: The Making of a Legend</td>\n",
       "      <td>Documentary</td>\n",
       "      <td>March 21, 2019</td>\n",
       "      <td>60.0</td>\n",
       "      <td>6.5</td>\n",
       "      <td>French</td>\n",
       "      <td>5</td>\n",
       "      <td>TV Show</td>\n",
       "      <td>...</td>\n",
       "      <td>NaN</td>\n",
       "      <td>['George MacKay'. 'Dean-Charles Chapman'. 'Mar...</td>\n",
       "      <td>['Universal Pictures (Worldwide)'. 'Entertainm...</td>\n",
       "      <td>$95 million</td>\n",
       "      <td>95.0</td>\n",
       "      <td>$384.9 million</td>\n",
       "      <td>384.9</td>\n",
       "      <td>8.3</td>\n",
       "      <td>78.0</td>\n",
       "      <td>89.0</td>\n",
       "    </tr>\n",
       "  </tbody>\n",
       "</table>\n",
       "<p>5 rows × 40 columns</p>\n",
       "</div>"
      ],
      "text/plain": [
       "   id_production  id_content                           title_production  \\\n",
       "0            1.0         1.0                       Dick Johnson Is Dead   \n",
       "1            2.0      1093.0          Dolly Parton: A MusiCares Tribute   \n",
       "2            3.0      1071.0                       Why Did You Kill Me?   \n",
       "3            4.0       142.0                                 Extraction   \n",
       "4            5.0      3988.0  Antoine Griezmann: The Making of a Legend   \n",
       "\n",
       "         genre         premiere  runtime  imdb_score language  id_content  \\\n",
       "0  Documentary  October 2, 2020     90.0         7.5  English           1   \n",
       "1  Documentary    April 7, 2021     55.0         6.5  English           2   \n",
       "2  Documentary   April 14, 2021     83.0         5.6  English           3   \n",
       "3       Action   April 24, 2020    117.0         6.7  English           4   \n",
       "4  Documentary   March 21, 2019     60.0         6.5   French           5   \n",
       "\n",
       "      type  ... based_on                                           starring  \\\n",
       "0    Movie  ...      NaN  ['George MacKay'. 'Dean-Charles Chapman'. 'Mar...   \n",
       "1  TV Show  ...      NaN  ['George MacKay'. 'Dean-Charles Chapman'. 'Mar...   \n",
       "2  TV Show  ...      NaN  ['George MacKay'. 'Dean-Charles Chapman'. 'Mar...   \n",
       "3  TV Show  ...      NaN  ['George MacKay'. 'Dean-Charles Chapman'. 'Mar...   \n",
       "4  TV Show  ...      NaN  ['George MacKay'. 'Dean-Charles Chapman'. 'Mar...   \n",
       "\n",
       "                                      distributed_by       budget  \\\n",
       "0  ['Universal Pictures (Worldwide)'. 'Entertainm...  $95 million   \n",
       "1  ['Universal Pictures (Worldwide)'. 'Entertainm...  $95 million   \n",
       "2  ['Universal Pictures (Worldwide)'. 'Entertainm...  $95 million   \n",
       "3  ['Universal Pictures (Worldwide)'. 'Entertainm...  $95 million   \n",
       "4  ['Universal Pictures (Worldwide)'. 'Entertainm...  $95 million   \n",
       "\n",
       "  budget_x_million      box_office box_office_x_million imdb metascore  \\\n",
       "0             95.0  $384.9 million                384.9  8.3      78.0   \n",
       "1             95.0  $384.9 million                384.9  8.3      78.0   \n",
       "2             95.0  $384.9 million                384.9  8.3      78.0   \n",
       "3             95.0  $384.9 million                384.9  8.3      78.0   \n",
       "4             95.0  $384.9 million                384.9  8.3      78.0   \n",
       "\n",
       "  rotten_tomatoes  \n",
       "0            89.0  \n",
       "1            89.0  \n",
       "2            89.0  \n",
       "3            89.0  \n",
       "4            89.0  \n",
       "\n",
       "[5 rows x 40 columns]"
      ]
     },
     "execution_count": 8,
     "metadata": {},
     "output_type": "execute_result"
    }
   ],
   "source": [
    "df_netflix_oscar.head()"
   ]
  },
  {
   "cell_type": "code",
   "execution_count": 15,
   "metadata": {},
   "outputs": [
    {
     "data": {
      "text/plain": [
       "Index(['id_production', 'id_content', 'title_production', 'genre', 'premiere',\n",
       "       'runtime', 'imdb_score', 'language', 'id_content', 'type',\n",
       "       'title_content', 'director', 'cast', 'country', 'date_added',\n",
       "       'release_year', 'rating', 'duration', 'listed_in', 'description',\n",
       "       'id_oscar', 'id_inf', 'id_res', 'id_content', 'title_oscar',\n",
       "       'year_ceremony', 'category', 'name', 'winner', 'directed_by',\n",
       "       'based_on', 'starring', 'distributed_by', 'budget', 'budget_x_million',\n",
       "       'box_office', 'box_office_x_million', 'imdb', 'metascore',\n",
       "       'rotten_tomatoes'],\n",
       "      dtype='object')"
      ]
     },
     "execution_count": 15,
     "metadata": {},
     "output_type": "execute_result"
    }
   ],
   "source": [
    "df_netflix_oscar.columns"
   ]
  },
  {
   "cell_type": "code",
   "execution_count": 16,
   "metadata": {},
   "outputs": [],
   "source": [
    "# Eliminar columnas duplicadas\n",
    "df_final = df_netflix_oscar.loc[:, ~df_netflix_oscar.columns.duplicated()]"
   ]
  },
  {
   "attachments": {},
   "cell_type": "markdown",
   "metadata": {},
   "source": [
    "Ahora que ya tenemos el dataframe final, puedo convertir para db, asi pasa a formar parte de mi base de datos. En este caso podria por ejemplo usar un administrador de base de datos y realizar consultas SQL si necesario. O bien, la opcion que elegimos para este proyecto, podemos pasar a trabajar el dataframe resultante haciendo su limpieza y preparacion para una posterior analisis"
   ]
  },
  {
   "cell_type": "code",
   "execution_count": 17,
   "metadata": {},
   "outputs": [],
   "source": [
    "# Conectar a la base de datos\n",
    "conn, cur = get_connection()\n",
    "\n",
    "# Guardar el DataFrame en la base de datos\n",
    "df_final.to_sql('oscar', conn, index=False, if_exists='replace')\n",
    "\n",
    "# Cerrar la conexión\n",
    "close_connection(conn, cur)"
   ]
  },
  {
   "attachments": {},
   "cell_type": "markdown",
   "metadata": {},
   "source": [
    "Averiguo que mi base de datos está completa, incluyendo las tablas que usamos para trabajar 'oscar', 'production' y 'content'"
   ]
  },
  {
   "cell_type": "code",
   "execution_count": 18,
   "metadata": {},
   "outputs": [
    {
     "name": "stdout",
     "output_type": "stream",
     "text": [
      "Tablas en la base de datos:\n",
      "sqlite_sequence\n",
      "content\n",
      "production\n",
      "InformacionTabla\n",
      "nombre_de_tabla\n",
      "oscar\n"
     ]
    }
   ],
   "source": [
    "# Conectar a la base de datos\n",
    "conn, cur = get_connection()\n",
    "\n",
    "# Crear un cursor para ejecutar consultas SQL\n",
    "cursor = conn.cursor()\n",
    "\n",
    "# Obtener la lista de tablas en la base de datos\n",
    "cursor.execute(\"SELECT name FROM sqlite_master WHERE type='table';\")\n",
    "\n",
    "# Obtener los resultados de la consulta\n",
    "tablas = cursor.fetchall()\n",
    "\n",
    "# Cerrar el cursor y la conexión\n",
    "cursor.close()\n",
    "conn.close()\n",
    "\n",
    "# Mostrar las tablas presentes en la base de datos\n",
    "print(\"Tablas en la base de datos:\")\n",
    "for tabla in tablas:\n",
    "    print(tabla[0])"
   ]
  }
 ],
 "metadata": {
  "kernelspec": {
   "display_name": "Python 3",
   "language": "python",
   "name": "python3"
  },
  "language_info": {
   "codemirror_mode": {
    "name": "ipython",
    "version": 3
   },
   "file_extension": ".py",
   "mimetype": "text/x-python",
   "name": "python",
   "nbconvert_exporter": "python",
   "pygments_lexer": "ipython3",
   "version": "3.10.10"
  },
  "orig_nbformat": 4
 },
 "nbformat": 4,
 "nbformat_minor": 2
}
