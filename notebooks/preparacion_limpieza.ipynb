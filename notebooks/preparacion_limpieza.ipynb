{
 "cells": [
  {
   "attachments": {},
   "cell_type": "markdown",
   "metadata": {},
   "source": [
    "*Preparacion y limpieza de datos*\n",
    "\n",
    "Pasamos a preparar y limpiar los datos. Para eso nos conectamos a la base de datos y cargaremos en un dataframe la informacion de la tabla oscar que creamos anteriormente"
   ]
  },
  {
   "cell_type": "code",
   "execution_count": 1,
   "metadata": {},
   "outputs": [],
   "source": [
    "#importamos todas las bibliotecas necesarias\n",
    "import sqlite3 as sq3\n",
    "import pandas as pd\n",
    "import numpy as np"
   ]
  },
  {
   "cell_type": "code",
   "execution_count": 2,
   "metadata": {},
   "outputs": [],
   "source": [
    "#Creamos las funciones para conectar y desconectar de la base de datos\n",
    "# CONEXIÓN\n",
    "def get_connection():\n",
    "    conn = sq3.connect('netflix.db')\n",
    "    cur = conn.cursor()\n",
    "    return conn, cur\n",
    "\n",
    "# DESCONEXIÓN\n",
    "def close_connection(conn, cur):\n",
    "    cur.close()\n",
    "    conn.close()"
   ]
  },
  {
   "cell_type": "code",
   "execution_count": 5,
   "metadata": {},
   "outputs": [
    {
     "data": {
      "text/html": [
       "<div>\n",
       "<style scoped>\n",
       "    .dataframe tbody tr th:only-of-type {\n",
       "        vertical-align: middle;\n",
       "    }\n",
       "\n",
       "    .dataframe tbody tr th {\n",
       "        vertical-align: top;\n",
       "    }\n",
       "\n",
       "    .dataframe thead th {\n",
       "        text-align: right;\n",
       "    }\n",
       "</style>\n",
       "<table border=\"1\" class=\"dataframe\">\n",
       "  <thead>\n",
       "    <tr style=\"text-align: right;\">\n",
       "      <th></th>\n",
       "      <th>id_production</th>\n",
       "      <th>id_content</th>\n",
       "      <th>title_production</th>\n",
       "      <th>genre</th>\n",
       "      <th>premiere</th>\n",
       "      <th>runtime</th>\n",
       "      <th>imdb_score</th>\n",
       "      <th>language</th>\n",
       "      <th>type</th>\n",
       "      <th>title_content</th>\n",
       "      <th>...</th>\n",
       "      <th>based_on</th>\n",
       "      <th>starring</th>\n",
       "      <th>distributed_by</th>\n",
       "      <th>budget</th>\n",
       "      <th>budget_x_million</th>\n",
       "      <th>box_office</th>\n",
       "      <th>box_office_x_million</th>\n",
       "      <th>imdb</th>\n",
       "      <th>metascore</th>\n",
       "      <th>rotten_tomatoes</th>\n",
       "    </tr>\n",
       "  </thead>\n",
       "  <tbody>\n",
       "    <tr>\n",
       "      <th>0</th>\n",
       "      <td>1.0</td>\n",
       "      <td>1.0</td>\n",
       "      <td>Dick Johnson Is Dead</td>\n",
       "      <td>Documentary</td>\n",
       "      <td>October 2, 2020</td>\n",
       "      <td>90.0</td>\n",
       "      <td>7.5</td>\n",
       "      <td>English</td>\n",
       "      <td>Movie</td>\n",
       "      <td>Dick Johnson Is Dead</td>\n",
       "      <td>...</td>\n",
       "      <td>None</td>\n",
       "      <td>['George MacKay'. 'Dean-Charles Chapman'. 'Mar...</td>\n",
       "      <td>['Universal Pictures (Worldwide)'. 'Entertainm...</td>\n",
       "      <td>$95 million</td>\n",
       "      <td>95.0</td>\n",
       "      <td>$384.9 million</td>\n",
       "      <td>384.9</td>\n",
       "      <td>8.3</td>\n",
       "      <td>78.0</td>\n",
       "      <td>89.0</td>\n",
       "    </tr>\n",
       "    <tr>\n",
       "      <th>1</th>\n",
       "      <td>2.0</td>\n",
       "      <td>1093.0</td>\n",
       "      <td>Dolly Parton: A MusiCares Tribute</td>\n",
       "      <td>Documentary</td>\n",
       "      <td>April 7, 2021</td>\n",
       "      <td>55.0</td>\n",
       "      <td>6.5</td>\n",
       "      <td>English</td>\n",
       "      <td>TV Show</td>\n",
       "      <td>Blood &amp; Water</td>\n",
       "      <td>...</td>\n",
       "      <td>None</td>\n",
       "      <td>['George MacKay'. 'Dean-Charles Chapman'. 'Mar...</td>\n",
       "      <td>['Universal Pictures (Worldwide)'. 'Entertainm...</td>\n",
       "      <td>$95 million</td>\n",
       "      <td>95.0</td>\n",
       "      <td>$384.9 million</td>\n",
       "      <td>384.9</td>\n",
       "      <td>8.3</td>\n",
       "      <td>78.0</td>\n",
       "      <td>89.0</td>\n",
       "    </tr>\n",
       "    <tr>\n",
       "      <th>2</th>\n",
       "      <td>3.0</td>\n",
       "      <td>1071.0</td>\n",
       "      <td>Why Did You Kill Me?</td>\n",
       "      <td>Documentary</td>\n",
       "      <td>April 14, 2021</td>\n",
       "      <td>83.0</td>\n",
       "      <td>5.6</td>\n",
       "      <td>English</td>\n",
       "      <td>TV Show</td>\n",
       "      <td>Ganglands</td>\n",
       "      <td>...</td>\n",
       "      <td>None</td>\n",
       "      <td>['George MacKay'. 'Dean-Charles Chapman'. 'Mar...</td>\n",
       "      <td>['Universal Pictures (Worldwide)'. 'Entertainm...</td>\n",
       "      <td>$95 million</td>\n",
       "      <td>95.0</td>\n",
       "      <td>$384.9 million</td>\n",
       "      <td>384.9</td>\n",
       "      <td>8.3</td>\n",
       "      <td>78.0</td>\n",
       "      <td>89.0</td>\n",
       "    </tr>\n",
       "    <tr>\n",
       "      <th>3</th>\n",
       "      <td>4.0</td>\n",
       "      <td>142.0</td>\n",
       "      <td>Extraction</td>\n",
       "      <td>Action</td>\n",
       "      <td>April 24, 2020</td>\n",
       "      <td>117.0</td>\n",
       "      <td>6.7</td>\n",
       "      <td>English</td>\n",
       "      <td>TV Show</td>\n",
       "      <td>Jailbirds New Orleans</td>\n",
       "      <td>...</td>\n",
       "      <td>None</td>\n",
       "      <td>['George MacKay'. 'Dean-Charles Chapman'. 'Mar...</td>\n",
       "      <td>['Universal Pictures (Worldwide)'. 'Entertainm...</td>\n",
       "      <td>$95 million</td>\n",
       "      <td>95.0</td>\n",
       "      <td>$384.9 million</td>\n",
       "      <td>384.9</td>\n",
       "      <td>8.3</td>\n",
       "      <td>78.0</td>\n",
       "      <td>89.0</td>\n",
       "    </tr>\n",
       "    <tr>\n",
       "      <th>4</th>\n",
       "      <td>5.0</td>\n",
       "      <td>3988.0</td>\n",
       "      <td>Antoine Griezmann: The Making of a Legend</td>\n",
       "      <td>Documentary</td>\n",
       "      <td>March 21, 2019</td>\n",
       "      <td>60.0</td>\n",
       "      <td>6.5</td>\n",
       "      <td>French</td>\n",
       "      <td>TV Show</td>\n",
       "      <td>Kota Factory</td>\n",
       "      <td>...</td>\n",
       "      <td>None</td>\n",
       "      <td>['George MacKay'. 'Dean-Charles Chapman'. 'Mar...</td>\n",
       "      <td>['Universal Pictures (Worldwide)'. 'Entertainm...</td>\n",
       "      <td>$95 million</td>\n",
       "      <td>95.0</td>\n",
       "      <td>$384.9 million</td>\n",
       "      <td>384.9</td>\n",
       "      <td>8.3</td>\n",
       "      <td>78.0</td>\n",
       "      <td>89.0</td>\n",
       "    </tr>\n",
       "  </tbody>\n",
       "</table>\n",
       "<p>5 rows × 38 columns</p>\n",
       "</div>"
      ],
      "text/plain": [
       "   id_production  id_content                           title_production  \\\n",
       "0            1.0         1.0                       Dick Johnson Is Dead   \n",
       "1            2.0      1093.0          Dolly Parton: A MusiCares Tribute   \n",
       "2            3.0      1071.0                       Why Did You Kill Me?   \n",
       "3            4.0       142.0                                 Extraction   \n",
       "4            5.0      3988.0  Antoine Griezmann: The Making of a Legend   \n",
       "\n",
       "         genre         premiere  runtime  imdb_score language     type  \\\n",
       "0  Documentary  October 2, 2020     90.0         7.5  English    Movie   \n",
       "1  Documentary    April 7, 2021     55.0         6.5  English  TV Show   \n",
       "2  Documentary   April 14, 2021     83.0         5.6  English  TV Show   \n",
       "3       Action   April 24, 2020    117.0         6.7  English  TV Show   \n",
       "4  Documentary   March 21, 2019     60.0         6.5   French  TV Show   \n",
       "\n",
       "           title_content  ... based_on  \\\n",
       "0   Dick Johnson Is Dead  ...     None   \n",
       "1          Blood & Water  ...     None   \n",
       "2              Ganglands  ...     None   \n",
       "3  Jailbirds New Orleans  ...     None   \n",
       "4           Kota Factory  ...     None   \n",
       "\n",
       "                                            starring  \\\n",
       "0  ['George MacKay'. 'Dean-Charles Chapman'. 'Mar...   \n",
       "1  ['George MacKay'. 'Dean-Charles Chapman'. 'Mar...   \n",
       "2  ['George MacKay'. 'Dean-Charles Chapman'. 'Mar...   \n",
       "3  ['George MacKay'. 'Dean-Charles Chapman'. 'Mar...   \n",
       "4  ['George MacKay'. 'Dean-Charles Chapman'. 'Mar...   \n",
       "\n",
       "                                      distributed_by       budget  \\\n",
       "0  ['Universal Pictures (Worldwide)'. 'Entertainm...  $95 million   \n",
       "1  ['Universal Pictures (Worldwide)'. 'Entertainm...  $95 million   \n",
       "2  ['Universal Pictures (Worldwide)'. 'Entertainm...  $95 million   \n",
       "3  ['Universal Pictures (Worldwide)'. 'Entertainm...  $95 million   \n",
       "4  ['Universal Pictures (Worldwide)'. 'Entertainm...  $95 million   \n",
       "\n",
       "   budget_x_million      box_office box_office_x_million imdb metascore  \\\n",
       "0              95.0  $384.9 million                384.9  8.3      78.0   \n",
       "1              95.0  $384.9 million                384.9  8.3      78.0   \n",
       "2              95.0  $384.9 million                384.9  8.3      78.0   \n",
       "3              95.0  $384.9 million                384.9  8.3      78.0   \n",
       "4              95.0  $384.9 million                384.9  8.3      78.0   \n",
       "\n",
       "   rotten_tomatoes  \n",
       "0             89.0  \n",
       "1             89.0  \n",
       "2             89.0  \n",
       "3             89.0  \n",
       "4             89.0  \n",
       "\n",
       "[5 rows x 38 columns]"
      ]
     },
     "execution_count": 5,
     "metadata": {},
     "output_type": "execute_result"
    }
   ],
   "source": [
    "# Conectar a la base de datos\n",
    "conn, cur = get_connection()\n",
    "\n",
    "# Crear un DataFrame a partir de la tabla 'oscar'\n",
    "query = \"SELECT * FROM oscar;\"\n",
    "df_netflix_oscar = pd.read_sql_query(query, conn)\n",
    "\n",
    "# Cerrar la conexión\n",
    "close_connection(conn, cur)\n",
    "\n",
    "# Mostrar las primeras filas del DataFrame\n",
    "df_netflix_oscar.head()"
   ]
  },
  {
   "attachments": {},
   "cell_type": "markdown",
   "metadata": {},
   "source": [
    "Ahora que ya creamos nuestro dataframe, vamos a evaluar toda su informacion para decidir que es necesario para preparar los datos para analisis"
   ]
  },
  {
   "cell_type": "code",
   "execution_count": 6,
   "metadata": {},
   "outputs": [
    {
     "name": "stdout",
     "output_type": "stream",
     "text": [
      "<class 'pandas.core.frame.DataFrame'>\n",
      "RangeIndex: 8747 entries, 0 to 8746\n",
      "Data columns (total 38 columns):\n",
      " #   Column                Non-Null Count  Dtype  \n",
      "---  ------                --------------  -----  \n",
      " 0   id_production         551 non-null    float64\n",
      " 1   id_content            551 non-null    float64\n",
      " 2   title_production      551 non-null    object \n",
      " 3   genre                 551 non-null    object \n",
      " 4   premiere              551 non-null    object \n",
      " 5   runtime               551 non-null    float64\n",
      " 6   imdb_score            551 non-null    float64\n",
      " 7   language              551 non-null    object \n",
      " 8   type                  8747 non-null   object \n",
      " 9   title_content         8747 non-null   object \n",
      " 10  director              6122 non-null   object \n",
      " 11  cast                  7933 non-null   object \n",
      " 12  country               7923 non-null   object \n",
      " 13  date_added            8737 non-null   object \n",
      " 14  release_year          8747 non-null   int64  \n",
      " 15  rating                8740 non-null   object \n",
      " 16  duration              8747 non-null   object \n",
      " 17  listed_in             8747 non-null   object \n",
      " 18  description           8747 non-null   object \n",
      " 19  id_oscar              2758 non-null   float64\n",
      " 20  id_inf                2758 non-null   float64\n",
      " 21  id_res                2758 non-null   float64\n",
      " 22  title_oscar           2758 non-null   object \n",
      " 23  year_ceremony         2758 non-null   float64\n",
      " 24  category              2758 non-null   object \n",
      " 25  name                  2758 non-null   object \n",
      " 26  winner                2758 non-null   float64\n",
      " 27  directed_by           2753 non-null   object \n",
      " 28  based_on              1360 non-null   object \n",
      " 29  starring              2628 non-null   object \n",
      " 30  distributed_by        2652 non-null   object \n",
      " 31  budget                2495 non-null   object \n",
      " 32  budget_x_million      2476 non-null   float64\n",
      " 33  box_office            2526 non-null   object \n",
      " 34  box_office_x_million  2519 non-null   float64\n",
      " 35  imdb                  2621 non-null   float64\n",
      " 36  metascore             2485 non-null   float64\n",
      " 37  rotten_tomatoes       2522 non-null   float64\n",
      "dtypes: float64(14), int64(1), object(23)\n",
      "memory usage: 2.5+ MB\n"
     ]
    }
   ],
   "source": [
    "df_netflix_oscar.info()"
   ]
  },
  {
   "attachments": {},
   "cell_type": "markdown",
   "metadata": {},
   "source": [
    "Paso a eliminar dupplicados utilizando como parametro la columna id_content, pues fue la columna que era comun en las 3 tablas"
   ]
  },
  {
   "cell_type": "code",
   "execution_count": 8,
   "metadata": {},
   "outputs": [],
   "source": [
    "# Eliminar duplicados conservando la primera ocurrencia de 'id_content'\n",
    "df_netflix_oscar_sin_duplicados = df_netflix_oscar.drop_duplicates(subset=['id_content'], keep='first')\n"
   ]
  },
  {
   "attachments": {},
   "cell_type": "markdown",
   "metadata": {},
   "source": [
    "Paso a averiguar los valores nulos en todo el dataframe por columna"
   ]
  },
  {
   "cell_type": "code",
   "execution_count": 14,
   "metadata": {},
   "outputs": [
    {
     "name": "stdout",
     "output_type": "stream",
     "text": [
      "552\n"
     ]
    }
   ],
   "source": [
    "num_filas_len = len(df_netflix_oscar_sin_duplicados)\n",
    "print(num_filas_len)"
   ]
  },
  {
   "cell_type": "code",
   "execution_count": 13,
   "metadata": {},
   "outputs": [
    {
     "name": "stdout",
     "output_type": "stream",
     "text": [
      "Valores nulos por columna:\n",
      "id_production             1\n",
      "id_content                1\n",
      "title_production          1\n",
      "genre                     1\n",
      "premiere                  1\n",
      "runtime                   1\n",
      "imdb_score                1\n",
      "language                  1\n",
      "type                      0\n",
      "title_content             0\n",
      "director                188\n",
      "cast                     62\n",
      "country                 192\n",
      "date_added                0\n",
      "release_year              0\n",
      "rating                    0\n",
      "duration                  0\n",
      "listed_in                 0\n",
      "description               0\n",
      "id_oscar                  0\n",
      "id_inf                    0\n",
      "id_res                    0\n",
      "title_oscar               0\n",
      "year_ceremony             0\n",
      "category                  0\n",
      "name                      0\n",
      "winner                    0\n",
      "directed_by               1\n",
      "based_on                265\n",
      "starring                 23\n",
      "distributed_by           15\n",
      "budget                   32\n",
      "budget_x_million         32\n",
      "box_office               22\n",
      "box_office_x_million     22\n",
      "imdb                     17\n",
      "metascore                34\n",
      "rotten_tomatoes          25\n",
      "dtype: int64\n"
     ]
    }
   ],
   "source": [
    "# Verificar valores nulos por columna\n",
    "valores_nulos_por_columna = df_netflix_oscar_sin_duplicados.isnull().sum(axis=0)\n",
    "\n",
    "# Mostrar valores nulos por columna\n",
    "print(\"Valores nulos por columna:\")\n",
    "print(valores_nulos_por_columna)"
   ]
  },
  {
   "attachments": {},
   "cell_type": "markdown",
   "metadata": {},
   "source": [
    "Si bien mis columnas principales no tienen tantos valores nulos, director, cast y country por ejemplo si lo tienen, por lo que no sería lo más apropiado borrar estos registros. decido entonces sustituir los valores nulos por 'NA'"
   ]
  },
  {
   "cell_type": "code",
   "execution_count": 16,
   "metadata": {},
   "outputs": [],
   "source": [
    "# Sustituir valores nulos en columnas específicas con 'NA'\n",
    "columnas_a_sustituir = ['director', 'cast', 'country']\n",
    "df_netflix_oscar_sustituido = df_netflix_oscar_sin_duplicados.fillna(value='NA')\n",
    "\n"
   ]
  },
  {
   "attachments": {},
   "cell_type": "markdown",
   "metadata": {},
   "source": [
    "volvemos a averiguar los valores nulos"
   ]
  },
  {
   "cell_type": "code",
   "execution_count": 17,
   "metadata": {},
   "outputs": [
    {
     "name": "stdout",
     "output_type": "stream",
     "text": [
      "Valores nulos por columna:\n",
      "id_production           0\n",
      "id_content              0\n",
      "title_production        0\n",
      "genre                   0\n",
      "premiere                0\n",
      "runtime                 0\n",
      "imdb_score              0\n",
      "language                0\n",
      "type                    0\n",
      "title_content           0\n",
      "director                0\n",
      "cast                    0\n",
      "country                 0\n",
      "date_added              0\n",
      "release_year            0\n",
      "rating                  0\n",
      "duration                0\n",
      "listed_in               0\n",
      "description             0\n",
      "id_oscar                0\n",
      "id_inf                  0\n",
      "id_res                  0\n",
      "title_oscar             0\n",
      "year_ceremony           0\n",
      "category                0\n",
      "name                    0\n",
      "winner                  0\n",
      "directed_by             0\n",
      "based_on                0\n",
      "starring                0\n",
      "distributed_by          0\n",
      "budget                  0\n",
      "budget_x_million        0\n",
      "box_office              0\n",
      "box_office_x_million    0\n",
      "imdb                    0\n",
      "metascore               0\n",
      "rotten_tomatoes         0\n",
      "dtype: int64\n"
     ]
    }
   ],
   "source": [
    "# Verificar valores nulos por columna\n",
    "valores_nulos_por_columna = df_netflix_oscar_sustituido.isnull().sum(axis=0)\n",
    "\n",
    "# Mostrar valores nulos por columna\n",
    "print(\"Valores nulos por columna:\")\n",
    "print(valores_nulos_por_columna)"
   ]
  },
  {
   "attachments": {},
   "cell_type": "markdown",
   "metadata": {},
   "source": [
    "Con el dataframe ya preparado, pasamos a exportar a csv. será el archivo a ser usado en otro Notebook para analysis y también a ser cargado en Tableau y/o Looker Studio para visualizacion "
   ]
  },
  {
   "cell_type": "code",
   "execution_count": 18,
   "metadata": {},
   "outputs": [],
   "source": [
    "df_NO = df_netflix_oscar_sustituido"
   ]
  },
  {
   "cell_type": "code",
   "execution_count": 19,
   "metadata": {},
   "outputs": [
    {
     "name": "stdout",
     "output_type": "stream",
     "text": [
      "DataFrame guardado en netflix_oscar_cleaned.csv\n"
     ]
    }
   ],
   "source": [
    "# Especificar el nombre del archivo CSV de salida\n",
    "nombre_archivo_csv = 'netflix_oscar_cleaned.csv'\n",
    "\n",
    "# Guardar el DataFrame en un archivo CSV\n",
    "df_NO.to_csv(nombre_archivo_csv, index=False)\n",
    "\n",
    "print(f\"DataFrame guardado en {nombre_archivo_csv}\")"
   ]
  }
 ],
 "metadata": {
  "kernelspec": {
   "display_name": "Python 3",
   "language": "python",
   "name": "python3"
  },
  "language_info": {
   "codemirror_mode": {
    "name": "ipython",
    "version": 3
   },
   "file_extension": ".py",
   "mimetype": "text/x-python",
   "name": "python",
   "nbconvert_exporter": "python",
   "pygments_lexer": "ipython3",
   "version": "3.10.10"
  },
  "orig_nbformat": 4
 },
 "nbformat": 4,
 "nbformat_minor": 2
}
